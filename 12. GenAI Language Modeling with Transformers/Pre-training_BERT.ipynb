{
 "cells": [
  {
   "cell_type": "markdown",
   "id": "f7a149eb-cdb5-4ba6-8002-3b5b7423274b",
   "metadata": {},
   "source": [
    "<p style=\"text-align:center\">\n",
    "    <a href=\"https://skills.network\" target=\"_blank\">\n",
    "    <img src=\"https://cf-courses-data.s3.us.cloud-object-storage.appdomain.cloud/assets/logos/SN_web_lightmode.png\" width=\"200\" alt=\"Skills Network Logo\">\n",
    "    </a>\n",
    "</p>\n"
   ]
  },
  {
   "cell_type": "markdown",
   "id": "7914b6c4-3653-4bfe-bce9-253c47ad1ae0",
   "metadata": {},
   "source": [
    "# **Pretraining BERT Models**\n"
   ]
  },
  {
   "cell_type": "markdown",
   "id": "4e7a2b7c-7307-4a63-a400-1558a6c9da41",
   "metadata": {},
   "source": [
    "Estimated time needed: **60** minutes\n"
   ]
  },
  {
   "cell_type": "markdown",
   "id": "a0de6f73-4876-432e-a15c-f0ac06ffbdbe",
   "metadata": {},
   "source": [
    "In this hands-on lab, you will learn how to build a BERT model from scratch using PyTorch.\n"
   ]
  },
  {
   "cell_type": "markdown",
   "id": "85114e10-e688-447d-a346-0b37f4aa5954",
   "metadata": {},
   "source": [
    "## __Table of contents__\n",
    "\n",
    "<ol>\n",
    "    <li><a href=\"#Objectives\">Objectives</a></li>\n",
    "    <li>\n",
    "        <a href=\"#Setup\">Setup</a>\n",
    "        <ol>\n",
    "            <li><a href=\"#Installing-required-libraries\">Installing required libraries</a></li>\n",
    "            <li><a href=\"#Importing-required-libraries\">Importing required libraries</a></li>\n",
    "        </ol>\n",
    "    </li>\n",
    "    <li>\n",
    "        <a href=\"#Background\">Background</a>\n",
    "        <ol>\n",
    "            <li><a href=\"#Introduction-to-pretraining\">Introduction to pretraining</a></li>\n",
    "            <li><a href=\"#Pretraining-objectives\">Pretraining objectives</a></li>\n",
    "            <li><a href=\"#Pretraining-a-BERT-model\">Pretraining a BERT model</a></li>\n",
    "        </ol>\n",
    "    </li>\n",
    "    <li><a href=\"#Loading-data\">Loading data</a></li>\n",
    "    <li><a href=\"#Model-creation\">Model creation</a></li>\n",
    "    <li><a href=\"#Evaluation\">Evaluation</a></li>\n",
    "    <li><a href=\"#Training\">Training</a></li>\n",
    "    <li><a href=\"#Inference\">Inference</a></li>\n",
    "    <li>\n",
    "        <a href=\"#Exercises\">Exercises</a>\n",
    "        <ol>\n",
    "            <li><a href=\"#Exercise-1:-Next-Sentence-Prediction-(NSP)-with-BERT\">Exercise 1: Next Sentence Prediction (NSP) with BERT</a></li>\n",
    "            <li><a href=\"#Exercise-2:-Masked-Language-Modeling-(MLM)-with-BERT\">Exercise 2: Masked Language Modeling (MLM) with BERT</a></li>\n",
    "        </ol>\n",
    "    </li>\n",
    "</ol>\n"
   ]
  },
  {
   "cell_type": "markdown",
   "id": "f05ef407-5515-4856-b31b-b1c3aebded45",
   "metadata": {},
   "source": [
    "## Objectives\n",
    "\n",
    "In this interactive guide, you will delve into the core components of encoder models, with a spotlight on 'Baby BERT', a streamlined variant of the BERT model. This notebook aims to:\n",
    "\n",
    "- **Demystify tokenization**: Introduce the critical first step in processing text for Natural Language Processing (NLP) — tokenization. We'll learn how to convert raw text into a format that's amenable to machine processing.\n",
    "- **Decode encoder models**: Shed light on the structure and function of encoder models, particularly how they capture and process the complexities of language.\n",
    "- **Pretraining dynamics**: Walk through the pretraining phase of 'Baby BERT' on a bespoke dataset, showcasing how language models are equipped to understand context and meaning.\n",
    "- **Task-specific proficiency**: Assess 'Baby BERT's capabilities in handling sentence sequencing and word prediction challenges through Next Sentence Prediction (NSP) and Masked Language Modeling (MLM).\n",
    "- **Performance analysis**: Evaluate how well our model performs these tasks, providing insights into its linguistic comprehension and ability to predict accurately.\n"
   ]
  },
  {
   "cell_type": "markdown",
   "id": "7e28cc66-c7dd-4dcb-9bcc-95aaefc4b5a4",
   "metadata": {},
   "source": [
    "## Setup\n"
   ]
  },
  {
   "cell_type": "markdown",
   "id": "71805831-e719-4a4a-8163-362c59de9727",
   "metadata": {},
   "source": [
    "### Installing required libraries\n",
    "The following required libraries are __not__ pre-installed in the Skills Network Labs environment. __You will need to run the following cell__ to install them:\n",
    "> Note: After executing the 'pip install' cell restart the kernel and execute the subsequent cells.\n"
   ]
  },
  {
   "cell_type": "code",
   "execution_count": 1,
   "id": "d50a1ef2-b655-42cd-b63e-fa91adf527d1",
   "metadata": {},
   "outputs": [],
   "source": [
    "# !pip install --no-cache-dir numpy==1.26.4 pandas==2.2.1\n",
    "# !pip install --no-cache-dir torch==2.3.0 torchtext==0.18.0 transformers==4.35.2\n",
    "# !pip install --no-cache-dir matplotlib==3.9.0"
   ]
  },
  {
   "cell_type": "markdown",
   "id": "cbd8a9d7-0e36-4b62-a3b7-6e860dd68e0e",
   "metadata": {},
   "source": [
    "### Importing required libraries\n",
    "\n",
    "_It is recommended you import all required libraries in one place (here):_\n"
   ]
  },
  {
   "cell_type": "code",
   "execution_count": 2,
   "id": "60ecc300-c8c2-446c-817e-3e3231f8cacf",
   "metadata": {},
   "outputs": [
    {
     "name": "stderr",
     "output_type": "stream",
     "text": [
      "/Users/fahee/anaconda3/lib/python3.11/site-packages/transformers/utils/hub.py:106: FutureWarning: Using `TRANSFORMERS_CACHE` is deprecated and will be removed in v5 of Transformers. Use `HF_HOME` instead.\n",
      "  warnings.warn(\n"
     ]
    }
   ],
   "source": [
    "import torch\n",
    "from torch.utils.data import DataLoader\n",
    "from torch import Tensor\n",
    "from torch.nn.utils.rnn import pad_sequence\n",
    "from torch.utils.data import Dataset, DataLoader\n",
    "import torch.nn as nn\n",
    "from torch.nn import Transformer\n",
    "from transformers import BertTokenizer\n",
    "from torch.optim import Adam\n",
    "from torch.nn import CrossEntropyLoss\n",
    "from torchtext.vocab import Vocab,build_vocab_from_iterator\n",
    "from torchtext.data.utils import get_tokenizer\n",
    "from torchtext.datasets import IMDB\n",
    "import random\n",
    "from itertools import chain\n",
    "import pandas as pd\n",
    "from copy import deepcopy\n",
    "import csv\n",
    "import json\n",
    "import math\n",
    "from tqdm import tqdm\n",
    "import matplotlib.pyplot as plt\n",
    "from transformers import get_linear_schedule_with_warmup\n",
    "\n",
    "# You can also use this section to suppress warnings generated by your code:\n",
    "def warn(*args, **kwargs):\n",
    "    pass\n",
    "import warnings\n",
    "warnings.warn = warn\n",
    "warnings.filterwarnings('ignore')\n"
   ]
  },
  {
   "cell_type": "markdown",
   "id": "ac180b56-2d8c-44f9-9ad0-676364045195",
   "metadata": {},
   "source": [
    "## Background\n",
    "### Introduction to pretraining\n"
   ]
  },
  {
   "cell_type": "markdown",
   "id": "f70f1be0-198d-4ae3-bc45-3f1b9016ec5f",
   "metadata": {},
   "source": [
    "Pretraining involves training a model on a large corpus of unlabeled text to capture general language patterns and semantic relationships. Pretrained models can then be fine-tuned on specific downstream NLP tasks, such as sentiment analysis, question answering, or machine translation.\n",
    "\n",
    "The motivation behind pretraining transformers is to address the limitations of traditional approaches that require significant amounts of labeled data for each specific task. Pretraining leverages the abundance of unlabeled text data available on the internet and facilitates transfer learning, where knowledge learned from one task can be transferred to aid in solving other related tasks.\n",
    "\n",
    "Pretraining objectives play a crucial role in training transformers. For example, masked language modeling (MLM) involves randomly masking some words in a sentence and training the model to predict the masked words based on the surrounding context. This objective helps the model learn contextual understanding and fill in missing information. Another objective called next sentence prediction (NSP) involves predicting whether two sentences are consecutive or randomly chosen from the corpus, enabling the model to learn sentence-level relationships.\n",
    "\n",
    "In the next sections of this lab, you will delve deeper into pretraining objectives. By the end of this lab, you will have a solid understanding of pretraining tasks for BERT models.\n"
   ]
  },
  {
   "cell_type": "markdown",
   "id": "9448bd42-5971-4e7d-b699-4b14f1e9a34a",
   "metadata": {},
   "source": [
    "### Pretraining objectives\n",
    "\n",
    "Pretraining objectives are crucial components of the pretraining process for transformers. These objectives define the tasks that the model is trained on during the pretraining phase, allowing it to learn meaningful contextual representations of language. Two commonly used pretraining objectives are masked language modeling (MLM) and next sentence prediction (NSP).\n",
    "\n",
    "1. Masked Language Modeling (MLM):\n",
    "   Masked language modeling involves randomly masking some words in a sentence and training the model to predict the masked words based on the context provided by the surrounding words(i.e., words that appear either before or after the masked word). The objective is to enable the model to learn contextual understanding and fill in missing information.\n",
    "\n",
    "   Here's how MLM works:\n",
    "   - Given an input sentence, a certain percentage of the words are randomly chosen and replaced with a special [MASK] token.\n",
    "   - The model's task is to predict the original words that were masked, given the context of the surrounding words.\n",
    "   - During training, the model learns to understand the relationship between the masked words and the rest of the sentence, effectively capturing the contextual information.\n",
    "\n",
    "2. Next Sentence Prediction (NSP):\n",
    "   Next sentence prediction involves training the model to predict whether two sentences are consecutive in the original text or randomly chosen from the corpus. This objective helps the model learn sentence-level relationships and understand the coherence between sentences.\n",
    "\n",
    "   Here's how NSP works:\n",
    "   - Given a pair of sentences, the model is trained to predict whether the second sentence follows the first sentence in the original text or if it is randomly selected from the corpus.\n",
    "   - The model learns to capture the relationships between sentences and understand the flow of information in the text.\n",
    "\n",
    "   NSP is particularly useful for tasks that involve understanding the relationship between multiple sentences, such as question answering or document classification. By training the model to predict the coherence of sentence pairs, it learns to capture the semantic connections between them.\n",
    "\n",
    "It's important to note that different pretrained models may use variations or combinations of these objectives, depending on the specific architecture and training setup.\n"
   ]
  },
  {
   "cell_type": "markdown",
   "id": "25a76f45-2927-404e-bd88-848a7847dc1b",
   "metadata": {},
   "source": [
    "### Pretraining a BERT model\n",
    "Pretraining a BERT(Bidirectional Encoder Representations from Transformers) model is a complex and time-consuming process that requires a large corpus of unlabeled text data and significant computational resources. However, you provide with a simplified exercise to demonstrate the steps involved in pretraining a BERT model using the Masked Language Modeling (MLM) as well as the Next Sentence Prediction (NSP) objectives.\n",
    "\n",
    "You will be instructed to:\n",
    "- Create train and test dataloaders from dataset\n",
    "- Pretrain BERT using an MLM task\n",
    "- Pretrain BERT using an NSP task\n",
    "- Evaluate the trained model\n"
   ]
  },
  {
   "cell_type": "markdown",
   "id": "e7aaa478-499a-45e8-9c0c-0e4c05607b16",
   "metadata": {},
   "source": [
    "## Loading data\n",
    "Let's load the CSV files created in the data preparation lab.\n"
   ]
  },
  {
   "cell_type": "code",
   "execution_count": 3,
   "id": "0da8dba2-c9b6-4ec6-b695-e5371611d734",
   "metadata": {},
   "outputs": [],
   "source": [
    "%%bash\n",
    "# Remove any earlier instance of the dataset loaded\n",
    "if [ -d \"bert_dataset\" ]; then\n",
    "    rm -rf bert_dataset\n",
    "fi"
   ]
  },
  {
   "cell_type": "code",
   "execution_count": 4,
   "id": "4c4527e4-e3a1-41ca-b5dd-1a335039883d",
   "metadata": {},
   "outputs": [
    {
     "name": "stdout",
     "output_type": "stream",
     "text": [
      "--2025-05-10 22:33:59--  https://cf-courses-data.s3.us.cloud-object-storage.appdomain.cloud/bZaoQD52DcMpE7-kxwAG8A.zip\n",
      "Resolving cf-courses-data.s3.us.cloud-object-storage.appdomain.cloud (cf-courses-data.s3.us.cloud-object-storage.appdomain.cloud)... 169.63.118.104\n",
      "Connecting to cf-courses-data.s3.us.cloud-object-storage.appdomain.cloud (cf-courses-data.s3.us.cloud-object-storage.appdomain.cloud)|169.63.118.104|:443... connected.\n",
      "HTTP request sent, awaiting response... 200 OK\n",
      "Length: 88958506 (85M) [application/zip]\n",
      "Saving to: ‘BERT_dataset.zip’\n",
      "\n",
      "BERT_dataset.zip    100%[===================>]  84.84M  12.1MB/s    in 8.4s    \n",
      "\n",
      "2025-05-10 22:34:09 (10.1 MB/s) - ‘BERT_dataset.zip’ saved [88958506/88958506]\n",
      "\n",
      "Archive:  BERT_dataset.zip\n",
      "   creating: /Users/fahee/Documents/My Learnings/IBM-Gen-AI-Codes/12. GenAI Language Modeling with Transformers/bert_dataset\n",
      "  inflating: bert_dataset/.DS_Store  \n",
      "  inflating: bert_dataset/bert_train_data.csv  \n",
      "  inflating: bert_dataset/bert_test_data_sampled.csv  \n",
      "  inflating: bert_dataset/bert_test_data.csv  \n",
      "  inflating: bert_dataset/bert_train_data_sampled.csv  \n"
     ]
    }
   ],
   "source": [
    "!wget -O BERT_dataset.zip https://cf-courses-data.s3.us.cloud-object-storage.appdomain.cloud/bZaoQD52DcMpE7-kxwAG8A.zip\n",
    "!unzip BERT_dataset.zip"
   ]
  },
  {
   "cell_type": "markdown",
   "id": "9f835bb0-20a7-469f-85a4-13dd393d9a20",
   "metadata": {},
   "source": [
    "Now, you can create a torch Dataset using the CSV file you just created:\n"
   ]
  },
  {
   "cell_type": "code",
   "execution_count": 5,
   "id": "db04d096-9094-4438-89f5-e2713719200b",
   "metadata": {},
   "outputs": [],
   "source": [
    "class BERTCSVDataset(Dataset):\n",
    "    def __init__(self, filename):\n",
    "        self.data = pd.read_csv(filename)\n",
    "        self.tokenizer = BertTokenizer.from_pretrained('bert-base-uncased')\n",
    "\n",
    "    def __len__(self):\n",
    "        return len(self.data)\n",
    "\n",
    "    def __getitem__(self, idx):\n",
    "        row = self.data.iloc[idx]\n",
    "        try:\n",
    "            \n",
    "            bert_input = torch.tensor(json.loads(row['BERT Input']), dtype=torch.long)\n",
    "            bert_label = torch.tensor(json.loads(row['BERT Label']), dtype=torch.long)\n",
    "            segment_label = torch.tensor([int(x) for x in row['Segment Label'].split(',')], dtype=torch.long)\n",
    "            is_next = torch.tensor(row['Is Next'], dtype=torch.long)\n",
    "            original_text = row['Original Text']  # If you want to use it\n",
    "        except json.JSONDecodeError as e:\n",
    "            print(f\"Error decoding JSON for row {idx}: {e}\")\n",
    "            print(\"BERT Input:\", row['BERT Input'])\n",
    "            print(\"BERT Label:\", row['BERT Label'])\n",
    "            # Handle the error, e.g., by skipping this row or using default values\n",
    "            return None  # or some default values\n",
    "\n",
    "            # Tokenizing the original text with BERT\n",
    "        encoded_input = self.tokenizer.encode_plus(\n",
    "            original_text,\n",
    "            add_special_tokens=True,\n",
    "            max_length=512,\n",
    "            padding='max_length',\n",
    "            truncation=True,\n",
    "            return_tensors=\"pt\"\n",
    "        )\n",
    "\n",
    "        input_ids = encoded_input['input_ids'].squeeze()\n",
    "        attention_mask = encoded_input['attention_mask'].squeeze()\n",
    "\n",
    "        return(bert_input, bert_label, segment_label, is_next, input_ids, attention_mask, original_text)"
   ]
  },
  {
   "cell_type": "markdown",
   "id": "12fdd792-f3c7-4cca-8556-2f6894cdf339",
   "metadata": {},
   "source": [
    "Next, create a collate function that applies transformations on batches of data iterator:\n"
   ]
  },
  {
   "cell_type": "code",
   "execution_count": 6,
   "id": "34f62bd2-e4ad-4b59-9a65-b8b8c33c3df0",
   "metadata": {},
   "outputs": [],
   "source": [
    "PAD_IDX = 0\n",
    "def collate_batch(batch):\n",
    "\n",
    "   \n",
    "    bert_inputs_batch, bert_labels_batch, segment_labels_batch, is_nexts_batch,input_ids_batch,attention_mask_batch,original_text_battch = [], [], [], [],[],[],[]\n",
    "\n",
    "    for bert_input, bert_label, segment_label, is_next,input_ids,attention_mask,original_text in batch:\n",
    "        # Convert each sequence to a tensor and append to the respective list\n",
    "        bert_inputs_batch.append(torch.tensor(bert_input, dtype=torch.long))\n",
    "        bert_labels_batch.append(torch.tensor(bert_label, dtype=torch.long))\n",
    "        segment_labels_batch.append(torch.tensor(segment_label, dtype=torch.long))\n",
    "        is_nexts_batch.append(is_next)\n",
    "        input_ids_batch.append(input_ids)\n",
    "        attention_mask_batch.append(attention_mask)\n",
    "        original_text_battch.append(original_text)\n",
    "\n",
    "    # Pad the sequences in the batch\n",
    "    bert_inputs_final = pad_sequence(bert_inputs_batch, padding_value=PAD_IDX, batch_first=False)\n",
    "    bert_labels_final = pad_sequence(bert_labels_batch, padding_value=PAD_IDX, batch_first=False)\n",
    "    segment_labels_final = pad_sequence(segment_labels_batch, padding_value=PAD_IDX, batch_first=False)\n",
    "    is_nexts_batch = torch.tensor(is_nexts_batch, dtype=torch.long)\n",
    "\n",
    "    return bert_inputs_final, bert_labels_final, segment_labels_final, is_nexts_batch"
   ]
  },
  {
   "cell_type": "markdown",
   "id": "4474bbb0-ddf8-4a59-9c33-bd072c909cbf",
   "metadata": {},
   "source": [
    "Using an arbitrary batch size, you can create train and test dataloaders:\n"
   ]
  },
  {
   "cell_type": "code",
   "execution_count": 7,
   "id": "aad65bc6-b8e5-436d-85df-8978fe301581",
   "metadata": {},
   "outputs": [],
   "source": [
    "BATCH_SIZE = 2\n",
    "\n",
    "train_dataset_path = './bert_dataset/bert_train_data.csv'\n",
    "test_dataset_path = './bert_dataset/bert_test_data.csv'\n",
    "\n",
    "train_dataset = BERTCSVDataset(train_dataset_path)\n",
    "test_dataset = BERTCSVDataset(test_dataset_path)\n",
    "\n",
    "train_dataloader = DataLoader(train_dataset, batch_size=BATCH_SIZE, shuffle=True, collate_fn=collate_batch)\n",
    "test_dataloader = DataLoader(test_dataset, batch_size=BATCH_SIZE, shuffle=False, collate_fn=collate_batch)"
   ]
  },
  {
   "cell_type": "markdown",
   "id": "60f0130f-5045-4509-bed3-425957cb3461",
   "metadata": {},
   "source": [
    "## Model creation\n",
    "\n",
    "In BERT, positional embedding, token embedding, and segment embedding are three types of embeddings used to represent the input tokens in the model.\n",
    "\n",
    "1. Token Embedding: Token embedding is the initial representation of each token in a BERT model. It maps each token to a dense vector representation of a fixed size, typically referred to as the embedding size. The token embedding layer in BERT learns the contextual representations of the input tokens. These embeddings capture the semantic meaning of the tokens and their relationships with other tokens in the context.\n",
    "\n",
    "2. Positional Embedding: BERT is a transformer-based model that processes the input tokens in parallel. However, since transformers don't inherently capture the order of tokens, positional embedding is used to inject positional information into the model. It adds a vector representation to each token that encodes its position in the input sequence. The positional embedding allows BERT to understand the sequential order of the tokens and capture their relative positions.\n",
    "\n",
    "\n",
    "3. Segment Embedding: BERT can handle sentence pairs or sequences that have distinct segments or parts. To differentiate between different segments, such as sentences or document sections, segment embedding is used. It assigns a unique vector representation to each segment or part of the input. The segment embeddings help BERT understand the relationships between different segments and capture the context within and between them.\n"
   ]
  },
  {
   "cell_type": "code",
   "execution_count": 8,
   "id": "a1c9a3a0-3b0e-4408-9278-ef3034862025",
   "metadata": {},
   "outputs": [],
   "source": [
    "EMBEDDING_DIM = 10\n",
    "\n",
    "class TokenEmbedding(nn.Module):\n",
    "    def __init__(self, vocab_size, emb_size):\n",
    "        super(TokenEmbedding, self).__init__()\n",
    "        self.embedding = nn.Embedding(vocab_size, emb_size)\n",
    "        self.emb_size = emb_size\n",
    "\n",
    "    def forward(self, tokens: Tensor):\n",
    "        return self.embedding(tokens.long()) * math.sqrt(self.emb_size)\n",
    "\n",
    "# Define the PositionalEncoding class as a PyTorch module for adding positional information to token embeddings\n",
    "class PositionalEncoding(nn.Module):\n",
    "    def __init__(self, emb_size: int, dropout: float, maxlen: int = 5000):\n",
    "        super(PositionalEncoding, self).__init__()\n",
    "        # Create a positional encoding matrix as per the Transformer paper's formula\n",
    "        den = torch.exp(- torch.arange(0, emb_size, 2) * math.log(10000) / emb_size)\n",
    "        pos = torch.arange(0, maxlen).reshape(maxlen, 1)\n",
    "        pos_embedding = torch.zeros((maxlen, emb_size))\n",
    "        pos_embedding[:, 0::2] = torch.sin(pos * den)\n",
    "        pos_embedding[:, 1::2] = torch.cos(pos * den)\n",
    "        pos_embedding = pos_embedding.unsqueeze(-2)\n",
    "\n",
    "        self.dropout = nn.Dropout(dropout)\n",
    "        self.register_buffer('pos_embedding', pos_embedding)\n",
    "\n",
    "    def forward(self, token_embedding: torch.Tensor):\n",
    "        # Apply the positional encodings to the input token embeddings\n",
    "\n",
    "        return self.dropout(token_embedding + self.pos_embedding[:token_embedding.size(0), :])"
   ]
  },
  {
   "cell_type": "code",
   "execution_count": 9,
   "id": "05226655-8dfe-46bc-8ce1-29d774e80b23",
   "metadata": {},
   "outputs": [],
   "source": [
    "class BERTEmbedding (nn.Module):\n",
    "\n",
    "    def __init__(self, vocab_size, emb_size ,dropout=0.1,train=True):\n",
    "\n",
    "        super().__init__()\n",
    "\n",
    "        self.token_embedding = TokenEmbedding( vocab_size,emb_size )\n",
    "        self.positional_encoding = PositionalEncoding(emb_size,dropout)\n",
    "        self.segment_embedding = nn.Embedding(3, emb_size)\n",
    "        self.dropout = torch.nn.Dropout(p=dropout)\n",
    "\n",
    "    def forward(self, bert_inputs, segment_labels=False):\n",
    "        my_embeddings=self.token_embedding(bert_inputs)\n",
    "        if self.train:\n",
    "          x = self.dropout(my_embeddings + self.positional_encoding(my_embeddings) + self.segment_embedding(segment_labels))\n",
    "        else:\n",
    "          x = my_embeddings + self.positional_encoding(my_embeddings)\n",
    "\n",
    "        return x"
   ]
  },
  {
   "cell_type": "markdown",
   "id": "f55c3c77-ca80-4ea7-bec9-10a4355d7f4e",
   "metadata": {},
   "source": [
    "Now, define a complete BERT model with the following key components:\n",
    "\n",
    "1. Initialization: The `BERT` class is defined as a subclass of `torch.nn.Module`. It initializes the BERT model with parameters such as vocabulary size, model dimension, number of layers, number of attention heads, and dropout rate.\n",
    "\n",
    "2. Embedding Layer: The BERT model includes an embedding layer that combines token embeddings and segment embeddings using the `BERTEmbedding` class.\n",
    "\n",
    "3. Transformer Encoder: Transformer Encoder layers are used to encode the input embeddings. The number of layers, attention heads, dropout rate, and model dimension are specified based on the defined parameters.\n",
    "\n",
    "4. Next Sentence Prediction: The model has a linear layer for Next Sentence Prediction. It takes the output from the Transformer encoder and predicts the relationship between two consecutive sentences, classifying them into two classes.\n",
    "\n",
    "5. Masked Language Modeling: The model also includes a linear layer for Masked Language Modeling. It predicts the masked tokens in the input sequence by taking the output from the Transformer encoder and making predictions across the vocabulary.\n",
    "\n",
    "6. Forward Pass: The `forward` method defines the forward pass of the BERT model. It takes input tokens (`bert_inputs`) and segment labels (`segment_labels`) and returns predictions for Next Sentence Prediction and Masked Language Modeling tasks.\n"
   ]
  },
  {
   "cell_type": "markdown",
   "id": "ef98e16e-d6e6-423a-b299-fc79ebe2854b",
   "metadata": {},
   "source": [
    "Using an example input, let's break down the embedding into its three essential components: token embedding, positional encoding and segment embedding to comprehend the process:\n"
   ]
  },
  {
   "cell_type": "code",
   "execution_count": 10,
   "id": "3ce958a3-cca9-4adf-a359-6bc8a415dca2",
   "metadata": {},
   "outputs": [],
   "source": [
    "VOCAB_SIZE=147161\n",
    "batch = 2\n",
    "count = 0\n",
    "device = torch.device(\"cuda\" if torch.cuda.is_available() else \"cpu\")\n",
    "# load sample batches from dataloader\n",
    "for batch in train_dataloader:\n",
    "    bert_inputs, bert_labels, segment_labels, is_nexts = [b.to(device) for b in batch]\n",
    "    count += 1\n",
    "    if count == 5:\n",
    "        break"
   ]
  },
  {
   "cell_type": "code",
   "execution_count": 11,
   "id": "67a54ffa-a7f0-4eb5-85d0-ee4880ea932b",
   "metadata": {},
   "outputs": [
    {
     "data": {
      "text/plain": [
       "torch.Size([42, 2])"
      ]
     },
     "execution_count": 11,
     "metadata": {},
     "output_type": "execute_result"
    }
   ],
   "source": [
    "bert_inputs.shape"
   ]
  },
  {
   "cell_type": "code",
   "execution_count": 12,
   "id": "b19a5f4c-dd90-452d-a45a-5ba562162b63",
   "metadata": {},
   "outputs": [
    {
     "data": {
      "text/plain": [
       "tensor([    1,     3, 39925,    55,    21,   123,   125,   673,    21,  2750,\n",
       "         1727,     7,    25,  3718,  4347,    55,   673,    11,  4048,     6,\n",
       "            2,  2271,    59,    10,    14,   166,    12,     3,  7633,   142,\n",
       "           31,     5,   400,     6,     2,     0,     0,     0,     0,     0,\n",
       "            0,     0])"
      ]
     },
     "execution_count": 12,
     "metadata": {},
     "output_type": "execute_result"
    }
   ],
   "source": [
    "#pick a sample input\n",
    "bert_inputs[:,0]"
   ]
  },
  {
   "cell_type": "code",
   "execution_count": 13,
   "id": "0d8050d5-ceaa-4fac-9ba8-78daf1fac787",
   "metadata": {},
   "outputs": [
    {
     "data": {
      "text/plain": [
       "torch.Size([42, 2])"
      ]
     },
     "execution_count": 13,
     "metadata": {},
     "output_type": "execute_result"
    }
   ],
   "source": [
    "segment_labels.shape"
   ]
  },
  {
   "cell_type": "code",
   "execution_count": 14,
   "id": "c780a045-9553-420c-8781-d06776530388",
   "metadata": {},
   "outputs": [
    {
     "data": {
      "text/plain": [
       "tensor([1, 1, 1, 1, 1, 1, 1, 1, 1, 1, 1, 1, 1, 1, 1, 1, 1, 1, 1, 1, 1, 2, 2, 2,\n",
       "        2, 2, 2, 2, 2, 2, 2, 2, 2, 2, 2, 0, 0, 0, 0, 0, 0, 0])"
      ]
     },
     "execution_count": 14,
     "metadata": {},
     "output_type": "execute_result"
    }
   ],
   "source": [
    "segment_labels[:,0]"
   ]
  },
  {
   "cell_type": "code",
   "execution_count": 15,
   "id": "8e6e8e64-05d3-4761-83f1-a29630ed7d02",
   "metadata": {},
   "outputs": [
    {
     "name": "stdout",
     "output_type": "stream",
     "text": [
      "Dimensions of token embeddings: torch.Size([42, 2, 10])\n",
      "Token Embeddings for the 0th token of the first sample: tensor([ 3.5881,  0.3550,  6.9550, -0.1736,  1.4903, -5.5017, -1.3079,  3.8970,\n",
      "        -1.1297, -0.8085], grad_fn=<SliceBackward0>)\n",
      "Token Embeddings for the 1th token of the first sample: tensor([-2.6133, -5.9957,  0.3652, -1.9924, -3.8685,  3.1439, -0.1015, -2.7921,\n",
      "        -3.0659, -3.9565], grad_fn=<SliceBackward0>)\n",
      "Token Embeddings for the 2th token of the first sample: tensor([-0.4932,  6.7250,  1.8977,  0.5499,  4.4245, -0.4324, -6.4678,  5.2285,\n",
      "        -0.7118,  0.2994], grad_fn=<SliceBackward0>)\n"
     ]
    }
   ],
   "source": [
    "# Instantiate the TokenEmbedding \n",
    "token_embedding = TokenEmbedding(VOCAB_SIZE, emb_size=EMBEDDING_DIM )\n",
    "\n",
    "# Get the token embeddings for a sample input\n",
    "t_embeddings = token_embedding(bert_inputs)\n",
    "#Each token is transformed into a tensor of size emb_size\n",
    "print(f\"Dimensions of token embeddings: {t_embeddings.size()}\") # Expected: (sequence_length, batch_size, EMBEDDING_DIM)\n",
    "#Check the embedded vectors for first 3 tokens of the first sample in the batch\n",
    "# you get embeddings[i,0,:] where i refers to the i'th token of the first sample in the batch (b=0)\n",
    "for i in range(3):\n",
    "    print(f\"Token Embeddings for the {i}th token of the first sample: {t_embeddings[i,0,:]}\")"
   ]
  },
  {
   "cell_type": "code",
   "execution_count": 16,
   "id": "a81be056-43ee-465e-98ea-a6802029302d",
   "metadata": {},
   "outputs": [
    {
     "name": "stdout",
     "output_type": "stream",
     "text": [
      "Dimensions of positionally encoded tokens: torch.Size([42, 2, 10])\n",
      "Positional Embeddings for the 0th token of the first sample: tensor([ 3.5881,  1.3550,  6.9550,  0.8264,  1.4903, -4.5017, -1.3079,  4.8970,\n",
      "        -1.1297,  0.1915], grad_fn=<SliceBackward0>)\n",
      "Positional Embeddings for the 1th token of the first sample: tensor([-1.7718, -5.4554,  0.5230, -1.0049, -3.8434,  4.1436, -0.0976, -1.7921,\n",
      "        -3.0652, -2.9565], grad_fn=<SliceBackward0>)\n",
      "Positional Embeddings for the 2th token of the first sample: tensor([ 0.4161,  6.3089,  2.2094,  1.5001,  4.4748,  0.5663, -6.4598,  6.2285,\n",
      "        -0.7106,  1.2994], grad_fn=<SliceBackward0>)\n"
     ]
    }
   ],
   "source": [
    "positional_encoding = PositionalEncoding(emb_size=EMBEDDING_DIM,dropout=0)\n",
    "\n",
    "# Apply positional encoding to token embeddings\n",
    "p_embedding = positional_encoding(t_embeddings)\n",
    "\n",
    "print(f\"Dimensions of positionally encoded tokens: {p_embedding.size()}\")# Expected: (sequence_length, batch_size, EMBEDDING_DIM)\n",
    "#Check the positional encoded vectors for first 3 tokens of the first sample in the batch\n",
    "# you get encoded_tokens[i,0,:] where i refers to the i'th token of the first sample(b=0) in the batch \n",
    "for i in range(3):\n",
    "    print(f\"Positional Embeddings for the {i}th token of the first sample: {p_embedding[i,0,:]}\")"
   ]
  },
  {
   "cell_type": "code",
   "execution_count": 17,
   "id": "591b8d2e-e344-4564-ad24-6436e864f112",
   "metadata": {},
   "outputs": [
    {
     "name": "stdout",
     "output_type": "stream",
     "text": [
      "Dimensions of segment embedding: torch.Size([42, 2, 10])\n",
      "Segment Embeddings for the 0th token of the first sample: tensor([-0.5168, -0.6002,  0.0735,  2.4480, -1.2606, -1.3915,  0.6660,  0.0631,\n",
      "        -1.2924,  0.1582], grad_fn=<SliceBackward0>)\n",
      "Segment Embeddings for the 1th token of the first sample: tensor([-0.5168, -0.6002,  0.0735,  2.4480, -1.2606, -1.3915,  0.6660,  0.0631,\n",
      "        -1.2924,  0.1582], grad_fn=<SliceBackward0>)\n",
      "Segment Embeddings for the 2th token of the first sample: tensor([-0.5168, -0.6002,  0.0735,  2.4480, -1.2606, -1.3915,  0.6660,  0.0631,\n",
      "        -1.2924,  0.1582], grad_fn=<SliceBackward0>)\n"
     ]
    }
   ],
   "source": [
    "segment_embedding = nn.Embedding(3, EMBEDDING_DIM)\n",
    "s_embedding = segment_embedding(segment_labels)\n",
    "print(f\"Dimensions of segment embedding: {s_embedding.size()}\")# Expected: (sequence_length, batch_size, EMBEDDING_DIM)\n",
    "#Check the Segment Embedding vectors for first 3 tokens of the first sample in the batch\n",
    "# you get segment_embedded[i,0,:] where i refers to the i'th token of the first sample(b=0) in the batch \n",
    "for i in range(3):\n",
    "    print(f\"Segment Embeddings for the {i}th token of the first sample: {s_embedding[i,0,:]}\")"
   ]
  },
  {
   "cell_type": "code",
   "execution_count": 18,
   "id": "5c250118-a250-4876-8df7-d22ae5f3544c",
   "metadata": {},
   "outputs": [
    {
     "name": "stdout",
     "output_type": "stream",
     "text": [
      "Dimensions of token + position + segment encoded tokens: torch.Size([42, 2, 10])\n",
      "BERT_Embedding for 0th token: tensor([  6.6594,   1.1097,  13.9834,   3.1009,   1.7200, -11.3950,  -1.9498,\n",
      "          8.8570,  -3.5519,  -0.4589], grad_fn=<SliceBackward0>)\n",
      "BERT_Embedding for 1th token: tensor([ -4.9019, -12.0514,   0.9617,  -0.5493,  -8.9725,   5.8960,   0.4668,\n",
      "         -4.5210,  -7.4235,  -6.7549], grad_fn=<SliceBackward0>)\n",
      "BERT_Embedding for 2th token: tensor([ -0.5938,  12.4336,   4.1805,   4.4980,   7.6387,  -1.2576, -12.2616,\n",
      "         11.5201,  -2.7149,   1.7569], grad_fn=<SliceBackward0>)\n"
     ]
    }
   ],
   "source": [
    "#Create the combined embedding vectors\n",
    "bert_embeddings = t_embeddings + p_embedding + s_embedding\n",
    "print(f\"Dimensions of token + position + segment encoded tokens: {bert_embeddings.size()}\")\n",
    "#Check the BERT Embedding vectors for first 3 tokens of the first sample in the batch\n",
    "# you get bert_embeddings[i,0,:] where i refers to the i'th token of the first sample(b=0) in the batch \n",
    "for i in range(3):\n",
    "    print(f\"BERT_Embedding for {i}th token: {bert_embeddings[i,0,:]}\")"
   ]
  },
  {
   "cell_type": "code",
   "execution_count": 19,
   "id": "3cce1003-0958-49a2-8ff3-971bde29578f",
   "metadata": {},
   "outputs": [],
   "source": [
    "class BERT(torch.nn.Module):\n",
    "    \n",
    "    def __init__(self, vocab_size, d_model=768, n_layers=12, heads=12, dropout=0.1):\n",
    "        \"\"\"\n",
    "        vocab_size: The size of the vocabulary.\n",
    "        d_model: The size of the embeddings (hidden size).\n",
    "        n_layers: The number of Transformer layers.\n",
    "        heads: The number of attention heads in each Transformer layer.\n",
    "        dropout: The dropout rate applied to embeddings and Transformer layers.\n",
    "        \"\"\"\n",
    "        super().__init__()\n",
    "        self.d_model = d_model\n",
    "        self.n_layers = n_layers\n",
    "        self.heads = heads\n",
    "\n",
    "        # Embedding layer that combines token embeddings and segment embeddings\n",
    "        self.bert_embedding = BERTEmbedding(vocab_size, d_model, dropout)\n",
    "\n",
    "        # Transformer Encoder layers\n",
    "        self.encoder_layer = nn.TransformerEncoderLayer(d_model=d_model, nhead=heads, dropout=dropout,batch_first=False)\n",
    "        self.transformer_encoder = nn.TransformerEncoder(self.encoder_layer, num_layers=n_layers)\n",
    "\n",
    "        # Linear layer for Next Sentence Prediction\n",
    "        self.nextsentenceprediction = nn.Linear(d_model, 2)\n",
    "\n",
    "        # Linear layer for Masked Language Modeling\n",
    "        self.masked_language = nn.Linear(d_model, vocab_size)\n",
    "\n",
    "    def forward(self, bert_inputs, segment_labels):\n",
    "        \"\"\"\n",
    "        bert_inputs: Input tokens.\n",
    "        segment_labels: Segment IDs for distinguishing different segments in the input.\n",
    "        mask: Attention mask to prevent attention to padding tokens.\n",
    "\n",
    "        return: Predictions for next sentence task and masked language modeling task.\n",
    "        \"\"\"\n",
    "\n",
    "        padding_mask = (bert_inputs == PAD_IDX).transpose(0, 1)\n",
    "        # Generate embeddings from input tokens and segment labels\n",
    "        my_bert_embedding = self.bert_embedding(bert_inputs, segment_labels)\n",
    "\n",
    "        # Pass embeddings through the Transformer encoder\n",
    "        transformer_encoder_output = self.transformer_encoder(my_bert_embedding,src_key_padding_mask=padding_mask)\n",
    "\n",
    "\n",
    "        next_sentence_prediction = self.nextsentenceprediction(transformer_encoder_output[ 0,:])\n",
    "        \n",
    "\n",
    "        # Masked Language Modeling: Predict all tokens in the sequence\n",
    "        masked_language = self.masked_language(transformer_encoder_output)\n",
    "\n",
    "        return  next_sentence_prediction, masked_language"
   ]
  },
  {
   "cell_type": "markdown",
   "id": "83887f6f-2347-4705-9f28-19d27eeca231",
   "metadata": {},
   "source": [
    "Let's create an instance of the model:\n"
   ]
  },
  {
   "cell_type": "code",
   "execution_count": 20,
   "id": "c42aaf2b-d9ac-41e6-a5ca-b5bd41b51659",
   "metadata": {},
   "outputs": [],
   "source": [
    "EMBEDDING_DIM = 10\n",
    "\n",
    "# Define parameters\n",
    "vocab_size = 147161  # Replace VOCAB_SIZE with your vocabulary size\n",
    "d_model = EMBEDDING_DIM  # Replace EMBEDDING_DIM with your embedding dimension\n",
    "n_layers = 2  # Number of Transformer layers\n",
    "initial_heads = 12 # Initial number of attention heads\n",
    "initial_heads = 2\n",
    "# Ensure the number of heads is a factor of the embedding dimension\n",
    "heads = initial_heads - d_model % initial_heads\n",
    "\n",
    "dropout = 0.1  # Dropout rate\n",
    "\n",
    "# Create an instance of the BERT model\n",
    "model = BERT(vocab_size, d_model, n_layers, heads, dropout)"
   ]
  },
  {
   "cell_type": "code",
   "execution_count": 21,
   "id": "7860c18e-08d8-45cb-bd51-89c073b6798e",
   "metadata": {},
   "outputs": [
    {
     "data": {
      "text/plain": [
       "torch.Size([2, 42])"
      ]
     },
     "execution_count": 21,
     "metadata": {},
     "output_type": "execute_result"
    }
   ],
   "source": [
    "padding_mask = (bert_inputs == PAD_IDX).transpose(0, 1)\n",
    "padding_mask.shape"
   ]
  },
  {
   "cell_type": "code",
   "execution_count": 22,
   "id": "e2fcc71a-9ec6-4002-aa9a-f5c72035b53a",
   "metadata": {},
   "outputs": [
    {
     "data": {
      "text/plain": [
       "torch.Size([42, 2, 10])"
      ]
     },
     "execution_count": 22,
     "metadata": {},
     "output_type": "execute_result"
    }
   ],
   "source": [
    "encoder_layer = nn.TransformerEncoderLayer(d_model=d_model, nhead=heads, dropout=dropout,batch_first=False)\n",
    "transformer_encoder = nn.TransformerEncoder(encoder_layer, num_layers=n_layers)\n",
    "# Pass embeddings through the Transformer encoder\n",
    "transformer_encoder_output = transformer_encoder(bert_embeddings,src_key_padding_mask=padding_mask)\n",
    "transformer_encoder_output.shape"
   ]
  },
  {
   "cell_type": "code",
   "execution_count": 23,
   "id": "5e5f4419-c95b-48e2-aac6-6332797b5ed8",
   "metadata": {},
   "outputs": [
    {
     "name": "stdout",
     "output_type": "stream",
     "text": [
      "NSP Output Shape: torch.Size([2, 2])\n"
     ]
    }
   ],
   "source": [
    "nextsentenceprediction = nn.Linear(d_model, 2)\n",
    "nsp = nextsentenceprediction(transformer_encoder_output[ 0,:])\n",
    "#logits for NSP task\n",
    "print(f\"NSP Output Shape: {nsp.shape}\")  # Expected shape: (batch_size, 2)"
   ]
  },
  {
   "cell_type": "code",
   "execution_count": 24,
   "id": "3d2bfbc7-ff20-4462-9352-3d2f680cf6f5",
   "metadata": {},
   "outputs": [
    {
     "name": "stdout",
     "output_type": "stream",
     "text": [
      "MLM Output Shape: torch.Size([42, 2, 147161])\n"
     ]
    }
   ],
   "source": [
    "masked_language = nn.Linear(d_model, vocab_size)\n",
    "# Masked Language Modeling: Predict all tokens in the sequence\n",
    "mlm = masked_language(transformer_encoder_output)\n",
    "#logits for MLM task\n",
    "print(f\"MLM Output Shape: {mlm.shape}\")  # Expected shape: (seq_length, batch_size, vocab_size)"
   ]
  },
  {
   "cell_type": "markdown",
   "id": "cba1be41-27db-4d97-884e-6014b4245853",
   "metadata": {},
   "source": [
    "## Evaluation\n",
    "\n",
    "After creating the BERT model, the next step is training and evaluating its performance. To facilitate this, an `evaluate` function is defined with the following steps:\n",
    "\n",
    "1. Loss Function: The CrossEntropyLoss function is defined to calculate the loss between predicted and actual values.\n",
    "\n",
    "2. Function Arguments: The function takes arguments including the dataloader, model, loss function, and device.\n",
    "\n",
    "3. Evaluation Mode: The BERT model is put into evaluation mode using `model.eval()`, disabling dropout and training-specific behaviors. Variables are initialized to track the total loss, total next sentence loss, total mask loss, and total number of batches.\n",
    "\n",
    "4. Evaluation Loop: The function iterates through the batches in the provided dataloader.\n",
    "\n",
    "5. Forward Pass: A forward pass is performed with the BERT model to obtain predictions for the next sentence and masked language tasks.\n",
    "\n",
    "6. Loss Calculation: The losses for the next sentence and masked language tasks are calculated, and then summed up to obtain the total loss for the batch.\n",
    "\n",
    "7. Average Loss Calculation: The average loss, average next sentence loss, and average mask loss are calculated by dividing the total losses by the total number of batches.\n",
    "\n",
    "\n",
    "The `evaluate` function is used not only for evaluating the BERT model's performance but also during the training phase to assess the model's progress.\n"
   ]
  },
  {
   "cell_type": "code",
   "execution_count": 25,
   "id": "108df90f-43b1-480c-8965-f1cf36f02bc5",
   "metadata": {},
   "outputs": [],
   "source": [
    "PAD_IDX=0\n",
    "loss_fn_mlm = nn.CrossEntropyLoss(ignore_index=PAD_IDX)# The loss function must ignore PAD tokens and only calculates loss for the masked tokens\n",
    "loss_fn_nsp = nn.CrossEntropyLoss()"
   ]
  },
  {
   "cell_type": "code",
   "execution_count": 26,
   "id": "cfe408b1-e9c4-4d10-a240-2da206e564a1",
   "metadata": {},
   "outputs": [
    {
     "data": {
      "text/plain": [
       "device(type='cpu')"
      ]
     },
     "execution_count": 26,
     "metadata": {},
     "output_type": "execute_result"
    }
   ],
   "source": [
    "device = torch.device(\"cuda\" if torch.cuda.is_available() else \"cpu\")\n",
    "model.to(device)\n",
    "device"
   ]
  },
  {
   "cell_type": "code",
   "execution_count": 27,
   "id": "38bc4cfe-e7d2-43ff-bd35-4a69c9e7fed1",
   "metadata": {},
   "outputs": [],
   "source": [
    "def evaluate(dataloader=test_dataloader, model=model, loss_fn_mlm=loss_fn_mlm, loss_fn_nsp=loss_fn_nsp, device=device):\n",
    "    model.eval()  # Turn off dropout and other training-specific behaviors\n",
    "\n",
    "    total_loss = 0\n",
    "    total_next_sentence_loss = 0\n",
    "    total_mask_loss = 0\n",
    "    total_batches = 0\n",
    "    with torch.no_grad():  # Turn off gradients for validation, saves memory and computations\n",
    "        for batch in dataloader:\n",
    "            bert_inputs, bert_labels, segment_labels, is_nexts = [b.to(device) for b in batch]\n",
    "\n",
    "            # Forward pass\n",
    "            next_sentence_prediction, masked_language = model(bert_inputs, segment_labels)\n",
    "\n",
    "            # Calculate loss for next sentence prediction\n",
    "            # Ensure is_nexts is of the correct shape for CrossEntropyLoss\n",
    "            next_loss = loss_fn_nsp(next_sentence_prediction, is_nexts.view(-1))\n",
    "\n",
    "            # Calculate loss for predicting masked tokens\n",
    "            # Flatten both masked_language predictions and bert_labels to match CrossEntropyLoss input requirements\n",
    "            mask_loss = loss_fn_mlm(masked_language.view(-1, masked_language.size(-1)), bert_labels.view(-1))\n",
    "\n",
    "            # Sum up the two losses\n",
    "            loss = next_loss + mask_loss\n",
    "            if torch.isnan(loss):\n",
    "                continue\n",
    "            else:\n",
    "                total_loss += loss.item()\n",
    "                total_next_sentence_loss += next_loss.item()\n",
    "                total_mask_loss += mask_loss.item()\n",
    "                total_batches += 1\n",
    "\n",
    "    avg_loss = total_loss / (total_batches + 1)\n",
    "    avg_next_sentence_loss = total_next_sentence_loss / (total_batches + 1)\n",
    "    avg_mask_loss = total_mask_loss / (total_batches + 1)\n",
    "\n",
    "    print(f\"Average Loss: {avg_loss:.4f}, Average Next Sentence Loss: {avg_next_sentence_loss:.4f}, Average Mask Loss: {avg_mask_loss:.4f}\")\n",
    "    return avg_loss"
   ]
  },
  {
   "cell_type": "markdown",
   "id": "1abb52b9-02a3-4cf3-80f9-65dbfb00a3d9",
   "metadata": {},
   "source": [
    "## Training\n",
    "The training process for the BERT model involves the following steps:\n",
    "\n",
    "1. Optimizer Definition: Before training starts, an optimizer is defined for training the BERT model. In this case, the Adam optimizer is used.\n",
    "\n",
    "2. Training Loop: Within each epoch, the training data is iterated through in batches.\n",
    "\n",
    "3. Forward Pass: For each batch, a forward pass is performed, where the BERT model predicts the next sentence and masked language tasks.\n",
    "\n",
    "4. Loss Calculation and Parameter Update: The loss is calculated based on the predicted and actual values. The model's parameters are then updated through backpropagation and gradient clipping.\n",
    "\n",
    "5. Epoch Evaluation: After each epoch, the average training loss is printed. The model's performance on the test set is evaluated. Additionally, the model is saved after each epoch.\n",
    "\n",
    "These steps are repeated for multiple epochs to train the BERT model and monitor its progress over time.\n",
    "\n",
    "**NOTE: The current DataLoader is quite huge, and it will take several hours for the model to train with such a huge dataset. Hence, below is the randomly sampled dataset (which is relatively small which still takes 1-2 hours to run) from IMDB to make the process faster. If you want to train the model on the entire dataset, skip the next cell and directly run the training cell.**\n"
   ]
  },
  {
   "cell_type": "code",
   "execution_count": 28,
   "id": "748077b6-9a8a-412f-968e-2c55a99fa557",
   "metadata": {},
   "outputs": [],
   "source": [
    "BATCH_SIZE = 3\n",
    "\n",
    "train_dataset_path = './bert_dataset/bert_train_data_sampled.csv'\n",
    "test_dataset_path = './bert_dataset/bert_test_data_sampled.csv'\n",
    "\n",
    "train_dataset = BERTCSVDataset(train_dataset_path)\n",
    "test_dataset = BERTCSVDataset(test_dataset_path)\n",
    "\n",
    "train_dataloader = DataLoader(train_dataset, batch_size=BATCH_SIZE, shuffle=True, collate_fn=collate_batch)\n",
    "test_dataloader = DataLoader(test_dataset, batch_size=BATCH_SIZE, shuffle=False, collate_fn=collate_batch)"
   ]
  },
  {
   "cell_type": "code",
   "execution_count": 29,
   "id": "bc011dff-26c5-43d7-9954-3d834b9f6c28",
   "metadata": {},
   "outputs": [
    {
     "name": "stderr",
     "output_type": "stream",
     "text": [
      "Epoch 1:   4%|▍         | 127/3334 [00:17<07:13,  7.40it/s]\n",
      "Training Epochs:   0%|          | 0/1 [00:17<?, ?it/s]\n"
     ]
    },
    {
     "ename": "KeyboardInterrupt",
     "evalue": "",
     "output_type": "error",
     "traceback": [
      "\u001b[0;31m---------------------------------------------------------------------------\u001b[0m",
      "\u001b[0;31mKeyboardInterrupt\u001b[0m                         Traceback (most recent call last)",
      "Cell \u001b[0;32mIn[29], line 31\u001b[0m\n\u001b[1;32m     28\u001b[0m next_sentence_prediction, masked_language \u001b[38;5;241m=\u001b[39m model(bert_inputs, segment_labels)\n\u001b[1;32m     30\u001b[0m next_loss \u001b[38;5;241m=\u001b[39m loss_fn_nsp(next_sentence_prediction, is_nexts)\n\u001b[0;32m---> 31\u001b[0m mask_loss \u001b[38;5;241m=\u001b[39m loss_fn_mlm(masked_language\u001b[38;5;241m.\u001b[39mview(\u001b[38;5;241m-\u001b[39m\u001b[38;5;241m1\u001b[39m, masked_language\u001b[38;5;241m.\u001b[39msize(\u001b[38;5;241m-\u001b[39m\u001b[38;5;241m1\u001b[39m)), bert_labels\u001b[38;5;241m.\u001b[39mview(\u001b[38;5;241m-\u001b[39m\u001b[38;5;241m1\u001b[39m))\n\u001b[1;32m     33\u001b[0m loss \u001b[38;5;241m=\u001b[39m next_loss \u001b[38;5;241m+\u001b[39m mask_loss\n\u001b[1;32m     34\u001b[0m loss\u001b[38;5;241m.\u001b[39mbackward()\n",
      "File \u001b[0;32m~/anaconda3/lib/python3.11/site-packages/torch/nn/modules/module.py:1518\u001b[0m, in \u001b[0;36mModule._wrapped_call_impl\u001b[0;34m(self, *args, **kwargs)\u001b[0m\n\u001b[1;32m   1516\u001b[0m     \u001b[38;5;28;01mreturn\u001b[39;00m \u001b[38;5;28mself\u001b[39m\u001b[38;5;241m.\u001b[39m_compiled_call_impl(\u001b[38;5;241m*\u001b[39margs, \u001b[38;5;241m*\u001b[39m\u001b[38;5;241m*\u001b[39mkwargs)  \u001b[38;5;66;03m# type: ignore[misc]\u001b[39;00m\n\u001b[1;32m   1517\u001b[0m \u001b[38;5;28;01melse\u001b[39;00m:\n\u001b[0;32m-> 1518\u001b[0m     \u001b[38;5;28;01mreturn\u001b[39;00m \u001b[38;5;28mself\u001b[39m\u001b[38;5;241m.\u001b[39m_call_impl(\u001b[38;5;241m*\u001b[39margs, \u001b[38;5;241m*\u001b[39m\u001b[38;5;241m*\u001b[39mkwargs)\n",
      "File \u001b[0;32m~/anaconda3/lib/python3.11/site-packages/torch/nn/modules/module.py:1527\u001b[0m, in \u001b[0;36mModule._call_impl\u001b[0;34m(self, *args, **kwargs)\u001b[0m\n\u001b[1;32m   1522\u001b[0m \u001b[38;5;66;03m# If we don't have any hooks, we want to skip the rest of the logic in\u001b[39;00m\n\u001b[1;32m   1523\u001b[0m \u001b[38;5;66;03m# this function, and just call forward.\u001b[39;00m\n\u001b[1;32m   1524\u001b[0m \u001b[38;5;28;01mif\u001b[39;00m \u001b[38;5;129;01mnot\u001b[39;00m (\u001b[38;5;28mself\u001b[39m\u001b[38;5;241m.\u001b[39m_backward_hooks \u001b[38;5;129;01mor\u001b[39;00m \u001b[38;5;28mself\u001b[39m\u001b[38;5;241m.\u001b[39m_backward_pre_hooks \u001b[38;5;129;01mor\u001b[39;00m \u001b[38;5;28mself\u001b[39m\u001b[38;5;241m.\u001b[39m_forward_hooks \u001b[38;5;129;01mor\u001b[39;00m \u001b[38;5;28mself\u001b[39m\u001b[38;5;241m.\u001b[39m_forward_pre_hooks\n\u001b[1;32m   1525\u001b[0m         \u001b[38;5;129;01mor\u001b[39;00m _global_backward_pre_hooks \u001b[38;5;129;01mor\u001b[39;00m _global_backward_hooks\n\u001b[1;32m   1526\u001b[0m         \u001b[38;5;129;01mor\u001b[39;00m _global_forward_hooks \u001b[38;5;129;01mor\u001b[39;00m _global_forward_pre_hooks):\n\u001b[0;32m-> 1527\u001b[0m     \u001b[38;5;28;01mreturn\u001b[39;00m forward_call(\u001b[38;5;241m*\u001b[39margs, \u001b[38;5;241m*\u001b[39m\u001b[38;5;241m*\u001b[39mkwargs)\n\u001b[1;32m   1529\u001b[0m \u001b[38;5;28;01mtry\u001b[39;00m:\n\u001b[1;32m   1530\u001b[0m     result \u001b[38;5;241m=\u001b[39m \u001b[38;5;28;01mNone\u001b[39;00m\n",
      "File \u001b[0;32m~/anaconda3/lib/python3.11/site-packages/torch/nn/modules/loss.py:1179\u001b[0m, in \u001b[0;36mCrossEntropyLoss.forward\u001b[0;34m(self, input, target)\u001b[0m\n\u001b[1;32m   1178\u001b[0m \u001b[38;5;28;01mdef\u001b[39;00m \u001b[38;5;21mforward\u001b[39m(\u001b[38;5;28mself\u001b[39m, \u001b[38;5;28minput\u001b[39m: Tensor, target: Tensor) \u001b[38;5;241m-\u001b[39m\u001b[38;5;241m>\u001b[39m Tensor:\n\u001b[0;32m-> 1179\u001b[0m     \u001b[38;5;28;01mreturn\u001b[39;00m F\u001b[38;5;241m.\u001b[39mcross_entropy(\u001b[38;5;28minput\u001b[39m, target, weight\u001b[38;5;241m=\u001b[39m\u001b[38;5;28mself\u001b[39m\u001b[38;5;241m.\u001b[39mweight,\n\u001b[1;32m   1180\u001b[0m                            ignore_index\u001b[38;5;241m=\u001b[39m\u001b[38;5;28mself\u001b[39m\u001b[38;5;241m.\u001b[39mignore_index, reduction\u001b[38;5;241m=\u001b[39m\u001b[38;5;28mself\u001b[39m\u001b[38;5;241m.\u001b[39mreduction,\n\u001b[1;32m   1181\u001b[0m                            label_smoothing\u001b[38;5;241m=\u001b[39m\u001b[38;5;28mself\u001b[39m\u001b[38;5;241m.\u001b[39mlabel_smoothing)\n",
      "File \u001b[0;32m~/anaconda3/lib/python3.11/site-packages/torch/nn/functional.py:3053\u001b[0m, in \u001b[0;36mcross_entropy\u001b[0;34m(input, target, weight, size_average, ignore_index, reduce, reduction, label_smoothing)\u001b[0m\n\u001b[1;32m   3051\u001b[0m \u001b[38;5;28;01mif\u001b[39;00m size_average \u001b[38;5;129;01mis\u001b[39;00m \u001b[38;5;129;01mnot\u001b[39;00m \u001b[38;5;28;01mNone\u001b[39;00m \u001b[38;5;129;01mor\u001b[39;00m reduce \u001b[38;5;129;01mis\u001b[39;00m \u001b[38;5;129;01mnot\u001b[39;00m \u001b[38;5;28;01mNone\u001b[39;00m:\n\u001b[1;32m   3052\u001b[0m     reduction \u001b[38;5;241m=\u001b[39m _Reduction\u001b[38;5;241m.\u001b[39mlegacy_get_string(size_average, reduce)\n\u001b[0;32m-> 3053\u001b[0m \u001b[38;5;28;01mreturn\u001b[39;00m torch\u001b[38;5;241m.\u001b[39m_C\u001b[38;5;241m.\u001b[39m_nn\u001b[38;5;241m.\u001b[39mcross_entropy_loss(\u001b[38;5;28minput\u001b[39m, target, weight, _Reduction\u001b[38;5;241m.\u001b[39mget_enum(reduction), ignore_index, label_smoothing)\n",
      "\u001b[0;31mKeyboardInterrupt\u001b[0m: "
     ]
    }
   ],
   "source": [
    "# Define the optimizer\n",
    "optimizer = Adam(model.parameters(), lr=1e-4, weight_decay=0.01, betas=(0.9, 0.999))\n",
    "\n",
    "# Training loop setup\n",
    "num_epochs = 1\n",
    "total_steps = num_epochs * len(train_dataloader)\n",
    "\n",
    "# Define the number of warmup steps, e.g., 10% of total\n",
    "warmup_steps = int(total_steps * 0.1)\n",
    "\n",
    "# Create the learning rate scheduler\n",
    "scheduler = get_linear_schedule_with_warmup(optimizer,\n",
    "                                            num_warmup_steps=warmup_steps,\n",
    "                                            num_training_steps=total_steps)\n",
    "\n",
    "# Lists to store losses for plotting\n",
    "train_losses = []\n",
    "eval_losses = []\n",
    "\n",
    "for epoch in tqdm(range(num_epochs), desc=\"Training Epochs\"):\n",
    "    model.train()\n",
    "    total_loss = 0\n",
    "\n",
    "    for step, batch in enumerate(tqdm(train_dataloader, desc=f\"Epoch {epoch + 1}\")):\n",
    "        bert_inputs, bert_labels, segment_labels, is_nexts = [b.to(device) for b in batch]\n",
    "\n",
    "        optimizer.zero_grad()\n",
    "        next_sentence_prediction, masked_language = model(bert_inputs, segment_labels)\n",
    "\n",
    "        next_loss = loss_fn_nsp(next_sentence_prediction, is_nexts)\n",
    "        mask_loss = loss_fn_mlm(masked_language.view(-1, masked_language.size(-1)), bert_labels.view(-1))\n",
    "\n",
    "        loss = next_loss + mask_loss\n",
    "        loss.backward()\n",
    "        torch.nn.utils.clip_grad_norm_(model.parameters(), max_norm=1.0)\n",
    "        optimizer.step()\n",
    "        scheduler.step()  # Update the learning rate\n",
    "\n",
    "        total_loss += loss.item()\n",
    "\n",
    "        if torch.isnan(loss):\n",
    "            continue\n",
    "        else:\n",
    "            total_loss += loss.item()\n",
    "\n",
    "    avg_train_loss = total_loss / len(train_dataloader) + 1\n",
    "    train_losses.append(avg_train_loss)\n",
    "    print(f\"Epoch {epoch+1} - Average training loss: {avg_train_loss:.4f}\")\n",
    "\n",
    "    # Evaluation after each epoch\n",
    "    eval_loss = evaluate(test_dataloader, model, loss_fn_nsp, loss_fn_mlm, device)\n",
    "    eval_losses.append(eval_loss)"
   ]
  },
  {
   "cell_type": "markdown",
   "id": "67c3ae98-7da3-4a7f-9556-ef2563afb370",
   "metadata": {},
   "source": [
    "**The below is a loss vs epoch plot, run the above code for more than one epoch to get a plot(currently the num_epochs is set to 1).**\n"
   ]
  },
  {
   "cell_type": "code",
   "execution_count": null,
   "id": "7201621a-5ad0-4e27-abcf-0c6014666c16",
   "metadata": {},
   "outputs": [],
   "source": [
    "# Plotting the loss values\n",
    "plt.figure(figsize=(6, 4))\n",
    "plt.scatter(range(1,num_epochs+1), train_losses, label=\"Training Loss\", color='blue')\n",
    "plt.scatter(range(1,num_epochs+1), eval_losses, label=\"Evaluation Loss\", color='orange')\n",
    "plt.xlabel('Epoch')\n",
    "plt.ylabel('Loss')\n",
    "plt.title('Training and Evaluation Loss')\n",
    "plt.legend()\n",
    "plt.show()"
   ]
  },
  {
   "cell_type": "markdown",
   "id": "3dcc90c3-f573-4870-8094-0900969fd0ab",
   "metadata": {},
   "source": [
    "## Inference\n",
    "Here you can load a model from a pt file that provide for your convenience.  So, If the model training on CPU takes too long, you can load this file and continue the lab.\n"
   ]
  },
  {
   "cell_type": "code",
   "execution_count": null,
   "id": "4f378a4a-c87d-4ffb-9bdf-a418c48b58bc",
   "metadata": {},
   "outputs": [],
   "source": [
    "'''model = BERT(vocab_size, d_model, n_layers, heads, dropout)  # Ensure these parameters match the original model's\n",
    "!wget 'https://cf-courses-data.s3.us.cloud-object-storage.appdomain.cloud/H04Cs7O75aOfmJ4YP2HdPw.pt'\n",
    "model.load_state_dict(torch.load('H04Cs7O75aOfmJ4YP2HdPw.pt',map_location=torch.device('cpu')))\n",
    "model.to(device)'''"
   ]
  },
  {
   "cell_type": "markdown",
   "id": "70f74937-ceac-41dc-a6ee-5bbe19ad96d5",
   "metadata": {},
   "source": [
    "To evaluate the performance of a pretrained BERT model in predicting whether a second sentence follows the first, a function called `predict_nsp` is defined. The function operates as follows:\n",
    "\n",
    "1. Tokenization: The input sentences are tokenized using the `tokenizer.encode_plus` method, which returns a dictionary of tokenized inputs. These tokenized inputs are then converted into tensors and moved to the appropriate device for processing.\n",
    "\n",
    "2. Prediction: The BERT model is utilized to make predictions by passing the token and segment tensors as input.\n",
    "\n",
    "3. Logits Manipulation: The first element of the logits tensor is selected and unsqueezed to add an extra dimension, resulting in a shape of `[1, 2]`.\n",
    "\n",
    "4. Probability and Prediction: The logits are passed through a softmax function to obtain probabilities, and the prediction is obtained by taking the argmax.\n",
    "\n",
    "5. Result Interpretation: The prediction is interpreted and returned as a string, indicating whether the second sentence follows the first or not.\n",
    "\n",
    "6. Example Usage: An example usage of the `predict_nsp` function is provided, demonstrating how two example sentences can be passed to the function along with a BERT model and tokenizer. The result is printed, indicating whether the second sentence follows the first based on the model's prediction.\n",
    "\n",
    "By utilizing the `predict_nsp` function, the performance of the pretrained BERT model in determining the relationship between two sentences can be assessed.\n"
   ]
  },
  {
   "cell_type": "code",
   "execution_count": null,
   "id": "37506af7-dccc-49bd-b9a6-259aaf7dd52b",
   "metadata": {},
   "outputs": [],
   "source": [
    "# Initialize the tokenizer with the BERT model's vocabulary\n",
    "tokenizer = BertTokenizer.from_pretrained('bert-base-uncased')\n",
    "model.eval()\n",
    "\n",
    "def predict_nsp(sentence1, sentence2, model, tokenizer):\n",
    "    # Tokenize sentences with special tokens\n",
    "    tokens = tokenizer.encode_plus(sentence1, sentence2, return_tensors=\"pt\")\n",
    "    tokens_tensor = tokens[\"input_ids\"].to(device)\n",
    "    segment_tensor = tokens[\"token_type_ids\"].to(device)\n",
    "\n",
    "    # Predict\n",
    "    with torch.no_grad():\n",
    "        # Assuming the model returns NSP predictions first\n",
    "        nsp_prediction, _ = model(tokens_tensor, segment_tensor)\n",
    "        # Select the first element (first sequence) of the logits tensor\n",
    "        first_logits = nsp_prediction[0].unsqueeze(0)  # Adds an extra dimension, making it [1, 2]\n",
    "        logits = torch.softmax(first_logits, dim=1)\n",
    "        prediction = torch.argmax(logits, dim=1).item()\n",
    "\n",
    "    # Interpret the prediction\n",
    "    return \"Second sentence follows the first\" if prediction == 1 else \"Second sentence does not follow the first\"\n",
    "\n",
    "# Example usage\n",
    "sentence1 = \"The cat sat on the mat.\"\n",
    "sentence2 = \"It was a sunny day\"\n",
    "\n",
    "print(predict_nsp(sentence1, sentence2, model, tokenizer))"
   ]
  },
  {
   "cell_type": "markdown",
   "id": "278d3d65-c0a4-44ed-8a92-e568ce38e4fd",
   "metadata": {},
   "source": [
    "A function is defined to perform Masked Language Modeling (MLM) using a pretrained BERT model. The function operates as follows:\n",
    "\n",
    "1. Tokenization: The input sentence is tokenized using the tokenizer and converted into token IDs, including the special tokens. The tokenized sentence is stored in the `tokens_tensor` variable.\n",
    "\n",
    "2. Segment Labels: Dummy segment labels filled with zeros are created and stored as `segment_labels`.\n",
    "\n",
    "3. Prediction: The BERT model is used to make predictions by passing the token tensor and segment labels as input. The MLM logits are extracted as `predictions`.\n",
    "\n",
    "4. Mask Token Index: The position of the [MASK] token is identified using the `nonzero` method and stored in the `mask_token_index` variable. Note that all tokens except the mask token are zero-padded.\n",
    "\n",
    "5. Predicted Index: The predicted index for the [MASK] token is obtained by taking the argmax of the MLM logits at the corresponding position.\n",
    "\n",
    "6. Token Conversion: The predicted index is converted back to a token using the `convert_ids_to_tokens` method of the tokenizer.\n",
    "\n",
    "7. Replaced Sentence: The original sentence is replaced with the predicted token at the position of the [MASK] token, resulting in the predicted sentence.\n"
   ]
  },
  {
   "cell_type": "code",
   "execution_count": null,
   "id": "d92a6486-5435-4b69-b9bd-09d7388846da",
   "metadata": {},
   "outputs": [],
   "source": [
    "def predict_mlm(sentence, model, tokenizer):\n",
    "    # Tokenize the input sentence and convert to token IDs, including special tokens\n",
    "    inputs = tokenizer(sentence, return_tensors=\"pt\")\n",
    "    tokens_tensor = inputs.input_ids\n",
    "\n",
    "    # Create dummy segment labels filled with zeros, assuming it's needed by your model\n",
    "    segment_labels = torch.zeros_like(tokens_tensor)\n",
    "\n",
    "    with torch.no_grad():\n",
    "        # Forward pass through the model, now correctly handling the output tuple\n",
    "        output_tuple = model(tokens_tensor, segment_labels)\n",
    "\n",
    "        # Assuming the second element of the tuple contains the MLM logits\n",
    "        predictions = output_tuple[1]  # Adjusted based on your model's output\n",
    "\n",
    "        # Identify the position of the [MASK] token\n",
    "        mask_token_index = (tokens_tensor == tokenizer.mask_token_id).nonzero(as_tuple=True)[1]\n",
    "\n",
    "        # Get the predicted index for the [MASK] token from the MLM logits\n",
    "        predicted_index = torch.argmax(predictions[0, mask_token_index.item(), :], dim=-1)\n",
    "        predicted_token = tokenizer.convert_ids_to_tokens([predicted_index.item()])[0]\n",
    "\n",
    "        # Replace [MASK] in the original sentence with the predicted token\n",
    "        predicted_sentence = sentence.replace(tokenizer.mask_token, predicted_token, 1)\n",
    "\n",
    "    return predicted_sentence\n",
    "\n",
    "\n",
    "# Example usage\n",
    "sentence = \"The cat sat on the [MASK].\"\n",
    "print(predict_mlm(sentence, model, tokenizer))"
   ]
  },
  {
   "cell_type": "markdown",
   "id": "c679bd9d-1fde-4397-98c7-09bdc3287fc6",
   "metadata": {},
   "source": [
    "Congratualtions! You've just learnt how to create a tiny BERT model and trained it for a few epochs. for the model to generate accurate result, you will need to train it on huge datasets for more epochs and maybe increase the model size.\n"
   ]
  },
  {
   "cell_type": "markdown",
   "id": "5e7da551-34d0-44c7-9ec1-f9328df314bb",
   "metadata": {},
   "source": [
    "# Exercises\n",
    "Now you have preatined our own Baby BERT and evaluated it now to see the difference lets use a pretrained BERT model to predict for few examples as above. \n",
    "\n",
    "**Note: Since the actual BERT is trained with a lot more data and epochs, its performance should be much better than the model you just built.**\n"
   ]
  },
  {
   "cell_type": "markdown",
   "id": "1e1d2400-0d14-4191-8801-d3c998e1893a",
   "metadata": {},
   "source": [
    "## Exercise 1: Next Sentence Prediction (NSP) with BERT\n",
    "\n",
    "1. **Load the BERT pretrained model**: Import `BertForPreTraining` and `BertTokenizer` from `transformers`, and load the 'bert-base-uncased' pretrained model and tokenizer.\n",
    "2. **Prepare text input**: Encode a pair of sentences using the loaded tokenizer.\n",
    "3. **Perform NSP**: Pass the encoded input through the model and interpret the `seq_relationship_logits` to determine if the model predicts the sentences as consecutive.\n"
   ]
  },
  {
   "cell_type": "code",
   "execution_count": null,
   "id": "28ac8caa-7918-4824-8dee-a87b494ecf43",
   "metadata": {},
   "outputs": [],
   "source": [
    "from transformers import BertForPreTraining, BertTokenizer\n",
    "import torch\n",
    "\n",
    "# Write your code here"
   ]
  },
  {
   "cell_type": "markdown",
   "id": "4e8df6ac-6f1e-4852-a205-81a59bf24942",
   "metadata": {},
   "source": [
    "<details>\n",
    "    <summary>Click here for Solution</summary>\n",
    "\n",
    "```python\n",
    "# Load pretrained model tokenizer (vocabulary)\n",
    "tokenizer = BertTokenizer.from_pretrained('bert-base-uncased')\n",
    "\n",
    "# Load pretrained model (weights)\n",
    "model = BertForPreTraining.from_pretrained('bert-base-uncased')\n",
    "# Prepare text pair for NSP\n",
    "text_1 = \"The cat sat on the mat\"\n",
    "text_2 = \"It was a sunny day\"\n",
    "# Encode text\n",
    "inputs = tokenizer(text_1, text_2, return_tensors=\"pt\")\n",
    "\n",
    "# Predict\n",
    "with torch.no_grad():\n",
    "    outputs = model(**inputs, next_sentence_label=torch.LongTensor([1]))\n",
    "    nsp_logits = outputs.seq_relationship_logits\n",
    "\n",
    "# Interpret the result for NSP\n",
    "if torch.argmax(nsp_logits, dim=-1).item() == 0:\n",
    "    print(\"The model thinks these sentences are NOT consecutive.\")\n",
    "else:\n",
    "    print(\"The model thinks these sentences are consecutive.\")\n",
    "```\n",
    "\n",
    "</details>\n"
   ]
  },
  {
   "cell_type": "markdown",
   "id": "c9dc22b3-d793-4d2d-8556-44e8e371934b",
   "metadata": {},
   "source": [
    "## Exercise 2: Masked Language Modeling (MLM) with BERT\n",
    "1. **Initialize the model and tokenizer**:\n",
    "   Load `BertForPreTraining` and `BertTokenizer` from the `transformers` library using the 'bert-base-uncased' model.\n",
    "2. **Prepare the masked sentence**:\n",
    "   Write a sentence and replace one word with `[MASK]`. For example, \"The capital of France is [MASK].\"\n",
    "3. **Tokenize and predict**:\n",
    "   Tokenize the masked sentence with `BertTokenizer.` Then, input it to `BertForPreTraining` and use the `prediction_logits` to find the most probable token that fits the mask.\n",
    "4. **Display the prediction**:\n",
    "   Convert the predicted token ID back to a token string and print out the predicted word.\n"
   ]
  },
  {
   "cell_type": "code",
   "execution_count": null,
   "id": "a70843d6-85db-456f-a881-ab8c2b4fedfc",
   "metadata": {},
   "outputs": [],
   "source": [
    "from transformers import BertForPreTraining, BertTokenizer\n",
    "import torch\n",
    "\n",
    "# Write your code here"
   ]
  },
  {
   "cell_type": "markdown",
   "id": "4b4c93dd-6f85-446d-b848-da04c488702d",
   "metadata": {},
   "source": [
    "<details>\n",
    "    <summary>Click here for Solution</summary>\n",
    "\n",
    "```python\n",
    "from transformers import BertForPreTraining, BertTokenizer\n",
    "import torch\n",
    "\n",
    "# Load pretrained model tokenizer (vocabulary)\n",
    "tokenizer = BertTokenizer.from_pretrained('bert-base-uncased')\n",
    "\n",
    "# Load pretrained model (weights)\n",
    "model = BertForPreTraining.from_pretrained('bert-base-uncased')\n",
    "\n",
    "# Prepare text with masked token\n",
    "masked_text = \"The capital of France is [MASK].\"\n",
    "# Tokenize and prepare for the model: Convert to tokens and add special tokens\n",
    "input_ids = tokenizer(masked_text, return_tensors=\"pt\")[\"input_ids\"]\n",
    "\n",
    "# Predict all tokens\n",
    "with torch.no_grad():\n",
    "    outputs = model(input_ids=input_ids)\n",
    "    predictions = outputs.prediction_logits\n",
    "\n",
    "# Confirm we were able to predict 'Paris' as the masked token\n",
    "predicted_index = torch.argmax(predictions[0, input_ids[0] == tokenizer.mask_token_id]).item()\n",
    "predicted_token = tokenizer.convert_ids_to_tokens([predicted_index])\n",
    "\n",
    "print(f\"Predicted token: {predicted_token}\")\n",
    "```\n",
    "\n",
    "</details>\n"
   ]
  },
  {
   "cell_type": "markdown",
   "id": "64a38c89-11e3-4368-bb69-f3710aa86a2c",
   "metadata": {},
   "source": [
    "## Authors\n",
    "\n",
    "[Joseph Santarcangelo](https://author.skills.network/instructors/joseph_santarcangelo) has a Ph.D. in Electrical Engineering, his research focused on using machine learning, signal processing, and computer vision to determine how videos impact human cognition. Joseph has been working for IBM since he completed his PhD.\n",
    "\n",
    "[Ashutosh Sagar](https://www.linkedin.com/in/ashutoshsagar/) is completing his MS in CS at Dalhousie University. He has previous experience in Natural Language Processing and as a Data Scientist.\n",
    "\n",
    "## Contributors\n",
    "\n",
    "[Fateme Akbari](https://www.linkedin.com/in/fatemeakbari/) is a Ph.D. candidate in Information Systems at McMaster University with demonstrated research experience in Machine Learning and NLP.\n",
    "\n",
    "\n",
    "## References\n",
    "\n",
    "- [BERT: Pre-training of Deep Bidirectional Transformers for Language Understanding](https://arxiv.org/pdf/1810.04805.pdf)\n",
    "- [Mastering BERT Model: Building it from Scratch with Pytorch](https://medium.com/data-and-beyond/complete-guide-to-building-bert-model-from-sratch-3e6562228891)\n"
   ]
  },
  {
   "cell_type": "markdown",
   "id": "bf1ec433-f8ce-4afb-b45f-a1870286da5c",
   "metadata": {},
   "source": [
    "Copyright © IBM Corporation. All rights reserved.\n"
   ]
  }
 ],
 "metadata": {
  "kernelspec": {
   "display_name": "base",
   "language": "python",
   "name": "python3"
  },
  "language_info": {
   "codemirror_mode": {
    "name": "ipython",
    "version": 3
   },
   "file_extension": ".py",
   "mimetype": "text/x-python",
   "name": "python",
   "nbconvert_exporter": "python",
   "pygments_lexer": "ipython3",
   "version": "3.11.4"
  },
  "prev_pub_hash": "0b25207227742137e14bad52642396cb60cccc974d957d37db77492b29e7d25f"
 },
 "nbformat": 4,
 "nbformat_minor": 4
}
